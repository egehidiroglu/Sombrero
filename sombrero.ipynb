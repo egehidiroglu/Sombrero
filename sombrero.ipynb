{
 "cells": [
  {
   "cell_type": "code",
   "execution_count": null,
   "id": "f8976285",
   "metadata": {},
   "outputs": [],
   "source": [
    "import matplotlib\n",
    "matplotlib.use('TkAgg')\n",
    "import matplotlib.pyplot as plt\n",
    "from astropy.io import fits\n",
    "from scipy.ndimage import gaussian_filter\n",
    "from astropy.visualization import (MinMaxInterval, SqrtStretch, ImageNormalize)"
   ]
  },
  {
   "cell_type": "code",
   "execution_count": null,
   "id": "3cb62cee",
   "metadata": {},
   "outputs": [],
   "source": [
    "# Load the FITS file\n",
    "hdulist = fits.open(\"hst_mos_0093324_acs_wfc_f555w_drz.fits\")"
   ]
  },
  {
   "cell_type": "markdown",
   "id": "ceec09a4",
   "metadata": {},
   "source": [
    "List all extensions\n",
    "hdulist.info()"
   ]
  },
  {
   "cell_type": "code",
   "execution_count": null,
   "id": "90464a5c",
   "metadata": {},
   "outputs": [],
   "source": [
    "# Access a specific extension by its index or name\n",
    "header = hdulist[1].header\n",
    "data = hdulist[1].data"
   ]
  },
  {
   "cell_type": "code",
   "execution_count": null,
   "id": "9a5c9f19",
   "metadata": {},
   "outputs": [],
   "source": [
    "smoothed_data = gaussian_filter(data, sigma=3)\n",
    "plt.imshow(data, origin='lower', cmap='gray')\n",
    "plt.colorbar()\n",
    "plt.show"
   ]
  }
 ],
 "metadata": {
  "jupytext": {
   "cell_metadata_filter": "-all",
   "main_language": "python",
   "notebook_metadata_filter": "-all"
  }
 },
 "nbformat": 4,
 "nbformat_minor": 5
}
